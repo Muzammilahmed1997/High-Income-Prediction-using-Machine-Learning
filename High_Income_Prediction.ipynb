{
 "cells": [
  {
   "cell_type": "markdown",
   "metadata": {},
   "source": [
    "## High Income Prediction Project"
   ]
  },
  {
   "cell_type": "markdown",
   "metadata": {},
   "source": [
    "Dataset Source : https://www.kaggle.com/code/wenruliu/income-prediction/data"
   ]
  },
  {
   "cell_type": "markdown",
   "metadata": {},
   "source": [
    "## Importing Libraries"
   ]
  },
  {
   "cell_type": "code",
   "execution_count": 1,
   "metadata": {},
   "outputs": [],
   "source": [
    "import pandas as pd   \n",
    "import matplotlib.pyplot as plt\n",
    "import plotly.express as px\n",
    "import time\n",
    "import numpy as np\n",
    "\n",
    "\n",
    "from sklearn.svm import SVC\n",
    "from xgboost import XGBClassifier\n",
    "from sklearn.model_selection import train_test_split, cross_val_score\n",
    "from sklearn.metrics import roc_curve, roc_auc_score\n",
    "from sklearn.metrics import confusion_matrix\n",
    "from sklearn.metrics import recall_score\n",
    "from sklearn.metrics import precision_score\n",
    "from sklearn.metrics import classification_report\n",
    "from sklearn.feature_selection import mutual_info_classif\n",
    "from sklearn.metrics import ConfusionMatrixDisplay\n",
    "from sklearn.model_selection import cross_val_predict\n",
    "from sklearn.metrics import confusion_matrix\n",
    "\n",
    "from sklearn.metrics import accuracy_score\n",
    "from sklearn.metrics import plot_confusion_matrix\n",
    "\n",
    "\n",
    "from matplotlib import pyplot\n",
    "import seaborn as sns\n",
    "\n",
    "\n",
    "from numpy import mean\n",
    "import warnings\n",
    "warnings.filterwarnings(\"ignore\") "
   ]
  },
  {
   "cell_type": "markdown",
   "metadata": {},
   "source": [
    "## Loading Dataset"
   ]
  },
  {
   "cell_type": "code",
   "execution_count": 2,
   "metadata": {},
   "outputs": [
    {
     "data": {
      "text/plain": [
       "(68378, 15)"
      ]
     },
     "execution_count": 2,
     "metadata": {},
     "output_type": "execute_result"
    }
   ],
   "source": [
    "# Importing Dataset using Pandas.\n",
    "data = pd.read_csv(\"E:/High Income Gru.csv\")\n",
    "data.shape  "
   ]
  },
  {
   "cell_type": "code",
   "execution_count": 3,
   "metadata": {},
   "outputs": [
    {
     "data": {
      "text/html": [
       "<div>\n",
       "<style scoped>\n",
       "    .dataframe tbody tr th:only-of-type {\n",
       "        vertical-align: middle;\n",
       "    }\n",
       "\n",
       "    .dataframe tbody tr th {\n",
       "        vertical-align: top;\n",
       "    }\n",
       "\n",
       "    .dataframe thead th {\n",
       "        text-align: right;\n",
       "    }\n",
       "</style>\n",
       "<table border=\"1\" class=\"dataframe\">\n",
       "  <thead>\n",
       "    <tr style=\"text-align: right;\">\n",
       "      <th></th>\n",
       "      <th>row ID</th>\n",
       "      <th>Age</th>\n",
       "      <th>WorkClass</th>\n",
       "      <th>X1</th>\n",
       "      <th>Education Level</th>\n",
       "      <th>X2</th>\n",
       "      <th>Marital Status</th>\n",
       "      <th>Occupation</th>\n",
       "      <th>X3</th>\n",
       "      <th>Gender</th>\n",
       "      <th>X4</th>\n",
       "      <th>X5</th>\n",
       "      <th>Hours Per Week Working</th>\n",
       "      <th>Native Country</th>\n",
       "      <th>High Income</th>\n",
       "    </tr>\n",
       "  </thead>\n",
       "  <tbody>\n",
       "    <tr>\n",
       "      <th>0</th>\n",
       "      <td>Row2</td>\n",
       "      <td>38.0</td>\n",
       "      <td>2</td>\n",
       "      <td>215646.0</td>\n",
       "      <td>1</td>\n",
       "      <td>9.0</td>\n",
       "      <td>2</td>\n",
       "      <td>2</td>\n",
       "      <td>0</td>\n",
       "      <td>0</td>\n",
       "      <td>0.0</td>\n",
       "      <td>0.0</td>\n",
       "      <td>40.0</td>\n",
       "      <td>0</td>\n",
       "      <td>0</td>\n",
       "    </tr>\n",
       "    <tr>\n",
       "      <th>1</th>\n",
       "      <td>Row3</td>\n",
       "      <td>53.0</td>\n",
       "      <td>2</td>\n",
       "      <td>234721.0</td>\n",
       "      <td>2</td>\n",
       "      <td>7.0</td>\n",
       "      <td>1</td>\n",
       "      <td>2</td>\n",
       "      <td>1</td>\n",
       "      <td>0</td>\n",
       "      <td>0.0</td>\n",
       "      <td>0.0</td>\n",
       "      <td>40.0</td>\n",
       "      <td>0</td>\n",
       "      <td>0</td>\n",
       "    </tr>\n",
       "    <tr>\n",
       "      <th>2</th>\n",
       "      <td>Row5</td>\n",
       "      <td>37.0</td>\n",
       "      <td>2</td>\n",
       "      <td>284582.0</td>\n",
       "      <td>3</td>\n",
       "      <td>14.0</td>\n",
       "      <td>1</td>\n",
       "      <td>1</td>\n",
       "      <td>0</td>\n",
       "      <td>1</td>\n",
       "      <td>0.0</td>\n",
       "      <td>0.0</td>\n",
       "      <td>40.0</td>\n",
       "      <td>0</td>\n",
       "      <td>0</td>\n",
       "    </tr>\n",
       "    <tr>\n",
       "      <th>3</th>\n",
       "      <td>Row7</td>\n",
       "      <td>52.0</td>\n",
       "      <td>1</td>\n",
       "      <td>209642.0</td>\n",
       "      <td>1</td>\n",
       "      <td>9.0</td>\n",
       "      <td>1</td>\n",
       "      <td>1</td>\n",
       "      <td>0</td>\n",
       "      <td>0</td>\n",
       "      <td>0.0</td>\n",
       "      <td>0.0</td>\n",
       "      <td>45.0</td>\n",
       "      <td>0</td>\n",
       "      <td>1</td>\n",
       "    </tr>\n",
       "    <tr>\n",
       "      <th>4</th>\n",
       "      <td>Row8</td>\n",
       "      <td>31.0</td>\n",
       "      <td>2</td>\n",
       "      <td>45781.0</td>\n",
       "      <td>3</td>\n",
       "      <td>14.0</td>\n",
       "      <td>0</td>\n",
       "      <td>3</td>\n",
       "      <td>0</td>\n",
       "      <td>1</td>\n",
       "      <td>14084.0</td>\n",
       "      <td>0.0</td>\n",
       "      <td>50.0</td>\n",
       "      <td>0</td>\n",
       "      <td>1</td>\n",
       "    </tr>\n",
       "  </tbody>\n",
       "</table>\n",
       "</div>"
      ],
      "text/plain": [
       "  row ID   Age  WorkClass        X1  Education Level    X2  Marital Status  \\\n",
       "0   Row2  38.0          2  215646.0                1   9.0               2   \n",
       "1   Row3  53.0          2  234721.0                2   7.0               1   \n",
       "2   Row5  37.0          2  284582.0                3  14.0               1   \n",
       "3   Row7  52.0          1  209642.0                1   9.0               1   \n",
       "4   Row8  31.0          2   45781.0                3  14.0               0   \n",
       "\n",
       "   Occupation  X3  Gender       X4   X5  Hours Per Week Working  \\\n",
       "0           2   0       0      0.0  0.0                    40.0   \n",
       "1           2   1       0      0.0  0.0                    40.0   \n",
       "2           1   0       1      0.0  0.0                    40.0   \n",
       "3           1   0       0      0.0  0.0                    45.0   \n",
       "4           3   0       1  14084.0  0.0                    50.0   \n",
       "\n",
       "   Native Country  High Income  \n",
       "0               0            0  \n",
       "1               0            0  \n",
       "2               0            0  \n",
       "3               0            1  \n",
       "4               0            1  "
      ]
     },
     "execution_count": 3,
     "metadata": {},
     "output_type": "execute_result"
    }
   ],
   "source": [
    "data.head()"
   ]
  },
  {
   "cell_type": "code",
   "execution_count": 4,
   "metadata": {},
   "outputs": [
    {
     "data": {
      "text/plain": [
       "Index(['row ID', 'Age', 'WorkClass', 'X1', 'Education Level', 'X2',\n",
       "       'Marital Status', 'Occupation', 'X3', 'Gender', 'X4', 'X5',\n",
       "       'Hours Per Week Working', 'Native Country', 'High Income'],\n",
       "      dtype='object')"
      ]
     },
     "execution_count": 4,
     "metadata": {},
     "output_type": "execute_result"
    }
   ],
   "source": [
    "data.columns"
   ]
  },
  {
   "cell_type": "code",
   "execution_count": 5,
   "metadata": {},
   "outputs": [
    {
     "name": "stdout",
     "output_type": "stream",
     "text": [
      "<class 'pandas.core.frame.DataFrame'>\n",
      "RangeIndex: 68378 entries, 0 to 68377\n",
      "Data columns (total 15 columns):\n",
      " #   Column                  Non-Null Count  Dtype  \n",
      "---  ------                  --------------  -----  \n",
      " 0   row ID                  68378 non-null  object \n",
      " 1   Age                     68378 non-null  float64\n",
      " 2   WorkClass               68378 non-null  int64  \n",
      " 3   X1                      68378 non-null  float64\n",
      " 4   Education Level         68378 non-null  int64  \n",
      " 5   X2                      68378 non-null  float64\n",
      " 6   Marital Status          68378 non-null  int64  \n",
      " 7   Occupation              68378 non-null  int64  \n",
      " 8   X3                      68378 non-null  int64  \n",
      " 9   Gender                  68378 non-null  int64  \n",
      " 10  X4                      68378 non-null  float64\n",
      " 11  X5                      68378 non-null  float64\n",
      " 12  Hours Per Week Working  68378 non-null  float64\n",
      " 13  Native Country          68378 non-null  int64  \n",
      " 14  High Income             68378 non-null  int64  \n",
      "dtypes: float64(6), int64(8), object(1)\n",
      "memory usage: 7.8+ MB\n"
     ]
    }
   ],
   "source": [
    "data.info()"
   ]
  },
  {
   "cell_type": "code",
   "execution_count": 6,
   "metadata": {},
   "outputs": [
    {
     "data": {
      "text/plain": [
       "row ID                    0\n",
       "Age                       0\n",
       "WorkClass                 0\n",
       "X1                        0\n",
       "Education Level           0\n",
       "X2                        0\n",
       "Marital Status            0\n",
       "Occupation                0\n",
       "X3                        0\n",
       "Gender                    0\n",
       "X4                        0\n",
       "X5                        0\n",
       "Hours Per Week Working    0\n",
       "Native Country            0\n",
       "High Income               0\n",
       "dtype: int64"
      ]
     },
     "execution_count": 6,
     "metadata": {},
     "output_type": "execute_result"
    }
   ],
   "source": [
    "data.isnull().sum()"
   ]
  },
  {
   "cell_type": "code",
   "execution_count": 7,
   "metadata": {},
   "outputs": [
    {
     "data": {
      "text/plain": [
       "row ID                     object\n",
       "Age                       float64\n",
       "WorkClass                   int64\n",
       "X1                        float64\n",
       "Education Level             int64\n",
       "X2                        float64\n",
       "Marital Status              int64\n",
       "Occupation                  int64\n",
       "X3                          int64\n",
       "Gender                      int64\n",
       "X4                        float64\n",
       "X5                        float64\n",
       "Hours Per Week Working    float64\n",
       "Native Country              int64\n",
       "High Income                 int64\n",
       "dtype: object"
      ]
     },
     "execution_count": 7,
     "metadata": {},
     "output_type": "execute_result"
    }
   ],
   "source": [
    "data.dtypes"
   ]
  },
  {
   "cell_type": "code",
   "execution_count": 8,
   "metadata": {},
   "outputs": [],
   "source": [
    "data.drop('row ID',axis=1,inplace=True)"
   ]
  },
  {
   "cell_type": "code",
   "execution_count": 9,
   "metadata": {},
   "outputs": [
    {
     "data": {
      "text/html": [
       "<div>\n",
       "<style scoped>\n",
       "    .dataframe tbody tr th:only-of-type {\n",
       "        vertical-align: middle;\n",
       "    }\n",
       "\n",
       "    .dataframe tbody tr th {\n",
       "        vertical-align: top;\n",
       "    }\n",
       "\n",
       "    .dataframe thead th {\n",
       "        text-align: right;\n",
       "    }\n",
       "</style>\n",
       "<table border=\"1\" class=\"dataframe\">\n",
       "  <thead>\n",
       "    <tr style=\"text-align: right;\">\n",
       "      <th></th>\n",
       "      <th>count</th>\n",
       "      <th>mean</th>\n",
       "      <th>std</th>\n",
       "      <th>min</th>\n",
       "      <th>25%</th>\n",
       "      <th>50%</th>\n",
       "      <th>75%</th>\n",
       "      <th>max</th>\n",
       "    </tr>\n",
       "  </thead>\n",
       "  <tbody>\n",
       "    <tr>\n",
       "      <th>Age</th>\n",
       "      <td>68378.0</td>\n",
       "      <td>43.292721</td>\n",
       "      <td>16.913851</td>\n",
       "      <td>17.0</td>\n",
       "      <td>30.723923</td>\n",
       "      <td>40.114881</td>\n",
       "      <td>52.666426</td>\n",
       "      <td>90.0</td>\n",
       "    </tr>\n",
       "    <tr>\n",
       "      <th>WorkClass</th>\n",
       "      <td>68378.0</td>\n",
       "      <td>2.812966</td>\n",
       "      <td>1.903760</td>\n",
       "      <td>0.0</td>\n",
       "      <td>2.000000</td>\n",
       "      <td>2.000000</td>\n",
       "      <td>4.000000</td>\n",
       "      <td>8.0</td>\n",
       "    </tr>\n",
       "    <tr>\n",
       "      <th>X1</th>\n",
       "      <td>68378.0</td>\n",
       "      <td>351877.227838</td>\n",
       "      <td>359571.802517</td>\n",
       "      <td>12285.0</td>\n",
       "      <td>127151.000000</td>\n",
       "      <td>200925.000000</td>\n",
       "      <td>388094.889616</td>\n",
       "      <td>1484705.0</td>\n",
       "    </tr>\n",
       "    <tr>\n",
       "      <th>Education Level</th>\n",
       "      <td>68378.0</td>\n",
       "      <td>4.622203</td>\n",
       "      <td>4.249394</td>\n",
       "      <td>0.0</td>\n",
       "      <td>1.000000</td>\n",
       "      <td>4.000000</td>\n",
       "      <td>7.000000</td>\n",
       "      <td>15.0</td>\n",
       "    </tr>\n",
       "    <tr>\n",
       "      <th>X2</th>\n",
       "      <td>68378.0</td>\n",
       "      <td>9.748831</td>\n",
       "      <td>3.183975</td>\n",
       "      <td>1.0</td>\n",
       "      <td>9.000000</td>\n",
       "      <td>10.000000</td>\n",
       "      <td>12.190965</td>\n",
       "      <td>16.0</td>\n",
       "    </tr>\n",
       "    <tr>\n",
       "      <th>Marital Status</th>\n",
       "      <td>68378.0</td>\n",
       "      <td>1.653865</td>\n",
       "      <td>1.747270</td>\n",
       "      <td>0.0</td>\n",
       "      <td>0.000000</td>\n",
       "      <td>1.000000</td>\n",
       "      <td>2.000000</td>\n",
       "      <td>6.0</td>\n",
       "    </tr>\n",
       "    <tr>\n",
       "      <th>Occupation</th>\n",
       "      <td>68378.0</td>\n",
       "      <td>5.374989</td>\n",
       "      <td>3.843540</td>\n",
       "      <td>0.0</td>\n",
       "      <td>2.000000</td>\n",
       "      <td>5.000000</td>\n",
       "      <td>8.000000</td>\n",
       "      <td>14.0</td>\n",
       "    </tr>\n",
       "    <tr>\n",
       "      <th>X3</th>\n",
       "      <td>68378.0</td>\n",
       "      <td>0.756033</td>\n",
       "      <td>1.239573</td>\n",
       "      <td>0.0</td>\n",
       "      <td>0.000000</td>\n",
       "      <td>0.000000</td>\n",
       "      <td>1.000000</td>\n",
       "      <td>4.0</td>\n",
       "    </tr>\n",
       "    <tr>\n",
       "      <th>Gender</th>\n",
       "      <td>68378.0</td>\n",
       "      <td>0.380883</td>\n",
       "      <td>0.485607</td>\n",
       "      <td>0.0</td>\n",
       "      <td>0.000000</td>\n",
       "      <td>0.000000</td>\n",
       "      <td>1.000000</td>\n",
       "      <td>1.0</td>\n",
       "    </tr>\n",
       "    <tr>\n",
       "      <th>X4</th>\n",
       "      <td>68378.0</td>\n",
       "      <td>15904.929798</td>\n",
       "      <td>28084.641539</td>\n",
       "      <td>0.0</td>\n",
       "      <td>0.000000</td>\n",
       "      <td>0.000000</td>\n",
       "      <td>18681.276836</td>\n",
       "      <td>99999.0</td>\n",
       "    </tr>\n",
       "    <tr>\n",
       "      <th>X5</th>\n",
       "      <td>68378.0</td>\n",
       "      <td>709.622235</td>\n",
       "      <td>1221.185320</td>\n",
       "      <td>0.0</td>\n",
       "      <td>0.000000</td>\n",
       "      <td>0.000000</td>\n",
       "      <td>1150.990390</td>\n",
       "      <td>4356.0</td>\n",
       "    </tr>\n",
       "    <tr>\n",
       "      <th>Hours Per Week Working</th>\n",
       "      <td>68378.0</td>\n",
       "      <td>43.442473</td>\n",
       "      <td>18.565032</td>\n",
       "      <td>1.0</td>\n",
       "      <td>36.721104</td>\n",
       "      <td>40.000000</td>\n",
       "      <td>50.000000</td>\n",
       "      <td>99.0</td>\n",
       "    </tr>\n",
       "    <tr>\n",
       "      <th>Native Country</th>\n",
       "      <td>68378.0</td>\n",
       "      <td>7.028021</td>\n",
       "      <td>11.742503</td>\n",
       "      <td>0.0</td>\n",
       "      <td>0.000000</td>\n",
       "      <td>0.000000</td>\n",
       "      <td>11.000000</td>\n",
       "      <td>41.0</td>\n",
       "    </tr>\n",
       "    <tr>\n",
       "      <th>High Income</th>\n",
       "      <td>68378.0</td>\n",
       "      <td>0.319679</td>\n",
       "      <td>0.466356</td>\n",
       "      <td>0.0</td>\n",
       "      <td>0.000000</td>\n",
       "      <td>0.000000</td>\n",
       "      <td>1.000000</td>\n",
       "      <td>1.0</td>\n",
       "    </tr>\n",
       "  </tbody>\n",
       "</table>\n",
       "</div>"
      ],
      "text/plain": [
       "                          count           mean            std      min  \\\n",
       "Age                     68378.0      43.292721      16.913851     17.0   \n",
       "WorkClass               68378.0       2.812966       1.903760      0.0   \n",
       "X1                      68378.0  351877.227838  359571.802517  12285.0   \n",
       "Education Level         68378.0       4.622203       4.249394      0.0   \n",
       "X2                      68378.0       9.748831       3.183975      1.0   \n",
       "Marital Status          68378.0       1.653865       1.747270      0.0   \n",
       "Occupation              68378.0       5.374989       3.843540      0.0   \n",
       "X3                      68378.0       0.756033       1.239573      0.0   \n",
       "Gender                  68378.0       0.380883       0.485607      0.0   \n",
       "X4                      68378.0   15904.929798   28084.641539      0.0   \n",
       "X5                      68378.0     709.622235    1221.185320      0.0   \n",
       "Hours Per Week Working  68378.0      43.442473      18.565032      1.0   \n",
       "Native Country          68378.0       7.028021      11.742503      0.0   \n",
       "High Income             68378.0       0.319679       0.466356      0.0   \n",
       "\n",
       "                                  25%            50%            75%        max  \n",
       "Age                         30.723923      40.114881      52.666426       90.0  \n",
       "WorkClass                    2.000000       2.000000       4.000000        8.0  \n",
       "X1                      127151.000000  200925.000000  388094.889616  1484705.0  \n",
       "Education Level              1.000000       4.000000       7.000000       15.0  \n",
       "X2                           9.000000      10.000000      12.190965       16.0  \n",
       "Marital Status               0.000000       1.000000       2.000000        6.0  \n",
       "Occupation                   2.000000       5.000000       8.000000       14.0  \n",
       "X3                           0.000000       0.000000       1.000000        4.0  \n",
       "Gender                       0.000000       0.000000       1.000000        1.0  \n",
       "X4                           0.000000       0.000000   18681.276836    99999.0  \n",
       "X5                           0.000000       0.000000    1150.990390     4356.0  \n",
       "Hours Per Week Working      36.721104      40.000000      50.000000       99.0  \n",
       "Native Country               0.000000       0.000000      11.000000       41.0  \n",
       "High Income                  0.000000       0.000000       1.000000        1.0  "
      ]
     },
     "execution_count": 9,
     "metadata": {},
     "output_type": "execute_result"
    }
   ],
   "source": [
    "data.describe().T"
   ]
  },
  {
   "cell_type": "code",
   "execution_count": 10,
   "metadata": {},
   "outputs": [],
   "source": [
    "from sklearn.preprocessing import MinMaxScaler\n",
    "scaling = MinMaxScaler()\n",
    "\n",
    "scaling.fit(data)\n",
    "data_scaled = scaling.transform(data)"
   ]
  },
  {
   "cell_type": "code",
   "execution_count": 11,
   "metadata": {},
   "outputs": [],
   "source": [
    "data_scaled = pd.DataFrame(data_scaled, columns= data.columns)"
   ]
  },
  {
   "cell_type": "code",
   "execution_count": 12,
   "metadata": {},
   "outputs": [
    {
     "data": {
      "text/html": [
       "<div>\n",
       "<style scoped>\n",
       "    .dataframe tbody tr th:only-of-type {\n",
       "        vertical-align: middle;\n",
       "    }\n",
       "\n",
       "    .dataframe tbody tr th {\n",
       "        vertical-align: top;\n",
       "    }\n",
       "\n",
       "    .dataframe thead th {\n",
       "        text-align: right;\n",
       "    }\n",
       "</style>\n",
       "<table border=\"1\" class=\"dataframe\">\n",
       "  <thead>\n",
       "    <tr style=\"text-align: right;\">\n",
       "      <th></th>\n",
       "      <th>Age</th>\n",
       "      <th>WorkClass</th>\n",
       "      <th>X1</th>\n",
       "      <th>Education Level</th>\n",
       "      <th>X2</th>\n",
       "      <th>Marital Status</th>\n",
       "      <th>Occupation</th>\n",
       "      <th>X3</th>\n",
       "      <th>Gender</th>\n",
       "      <th>X4</th>\n",
       "      <th>X5</th>\n",
       "      <th>Hours Per Week Working</th>\n",
       "      <th>Native Country</th>\n",
       "      <th>High Income</th>\n",
       "    </tr>\n",
       "  </thead>\n",
       "  <tbody>\n",
       "    <tr>\n",
       "      <th>0</th>\n",
       "      <td>0.287671</td>\n",
       "      <td>0.250</td>\n",
       "      <td>0.138113</td>\n",
       "      <td>0.066667</td>\n",
       "      <td>0.533333</td>\n",
       "      <td>0.333333</td>\n",
       "      <td>0.142857</td>\n",
       "      <td>0.00</td>\n",
       "      <td>0.0</td>\n",
       "      <td>0.000000</td>\n",
       "      <td>0.0</td>\n",
       "      <td>0.397959</td>\n",
       "      <td>0.0</td>\n",
       "      <td>0.0</td>\n",
       "    </tr>\n",
       "    <tr>\n",
       "      <th>1</th>\n",
       "      <td>0.493151</td>\n",
       "      <td>0.250</td>\n",
       "      <td>0.151068</td>\n",
       "      <td>0.133333</td>\n",
       "      <td>0.400000</td>\n",
       "      <td>0.166667</td>\n",
       "      <td>0.142857</td>\n",
       "      <td>0.25</td>\n",
       "      <td>0.0</td>\n",
       "      <td>0.000000</td>\n",
       "      <td>0.0</td>\n",
       "      <td>0.397959</td>\n",
       "      <td>0.0</td>\n",
       "      <td>0.0</td>\n",
       "    </tr>\n",
       "    <tr>\n",
       "      <th>2</th>\n",
       "      <td>0.273973</td>\n",
       "      <td>0.250</td>\n",
       "      <td>0.184932</td>\n",
       "      <td>0.200000</td>\n",
       "      <td>0.866667</td>\n",
       "      <td>0.166667</td>\n",
       "      <td>0.071429</td>\n",
       "      <td>0.00</td>\n",
       "      <td>1.0</td>\n",
       "      <td>0.000000</td>\n",
       "      <td>0.0</td>\n",
       "      <td>0.397959</td>\n",
       "      <td>0.0</td>\n",
       "      <td>0.0</td>\n",
       "    </tr>\n",
       "    <tr>\n",
       "      <th>3</th>\n",
       "      <td>0.479452</td>\n",
       "      <td>0.125</td>\n",
       "      <td>0.134036</td>\n",
       "      <td>0.066667</td>\n",
       "      <td>0.533333</td>\n",
       "      <td>0.166667</td>\n",
       "      <td>0.071429</td>\n",
       "      <td>0.00</td>\n",
       "      <td>0.0</td>\n",
       "      <td>0.000000</td>\n",
       "      <td>0.0</td>\n",
       "      <td>0.448980</td>\n",
       "      <td>0.0</td>\n",
       "      <td>1.0</td>\n",
       "    </tr>\n",
       "    <tr>\n",
       "      <th>4</th>\n",
       "      <td>0.191781</td>\n",
       "      <td>0.250</td>\n",
       "      <td>0.022749</td>\n",
       "      <td>0.200000</td>\n",
       "      <td>0.866667</td>\n",
       "      <td>0.000000</td>\n",
       "      <td>0.214286</td>\n",
       "      <td>0.00</td>\n",
       "      <td>1.0</td>\n",
       "      <td>0.140841</td>\n",
       "      <td>0.0</td>\n",
       "      <td>0.500000</td>\n",
       "      <td>0.0</td>\n",
       "      <td>1.0</td>\n",
       "    </tr>\n",
       "  </tbody>\n",
       "</table>\n",
       "</div>"
      ],
      "text/plain": [
       "        Age  WorkClass        X1  Education Level        X2  Marital Status  \\\n",
       "0  0.287671      0.250  0.138113         0.066667  0.533333        0.333333   \n",
       "1  0.493151      0.250  0.151068         0.133333  0.400000        0.166667   \n",
       "2  0.273973      0.250  0.184932         0.200000  0.866667        0.166667   \n",
       "3  0.479452      0.125  0.134036         0.066667  0.533333        0.166667   \n",
       "4  0.191781      0.250  0.022749         0.200000  0.866667        0.000000   \n",
       "\n",
       "   Occupation    X3  Gender        X4   X5  Hours Per Week Working  \\\n",
       "0    0.142857  0.00     0.0  0.000000  0.0                0.397959   \n",
       "1    0.142857  0.25     0.0  0.000000  0.0                0.397959   \n",
       "2    0.071429  0.00     1.0  0.000000  0.0                0.397959   \n",
       "3    0.071429  0.00     0.0  0.000000  0.0                0.448980   \n",
       "4    0.214286  0.00     1.0  0.140841  0.0                0.500000   \n",
       "\n",
       "   Native Country  High Income  \n",
       "0             0.0          0.0  \n",
       "1             0.0          0.0  \n",
       "2             0.0          0.0  \n",
       "3             0.0          1.0  \n",
       "4             0.0          1.0  "
      ]
     },
     "execution_count": 12,
     "metadata": {},
     "output_type": "execute_result"
    }
   ],
   "source": [
    "data_scaled.head()"
   ]
  },
  {
   "cell_type": "code",
   "execution_count": 13,
   "metadata": {},
   "outputs": [],
   "source": [
    "X = data_scaled.loc[:, data_scaled.columns != 'High Income']\n",
    "y = data_scaled[['High Income']]"
   ]
  },
  {
   "cell_type": "code",
   "execution_count": 14,
   "metadata": {},
   "outputs": [],
   "source": [
    "from sklearn.model_selection import train_test_split\n",
    "Xtrain, Xtest, Ytrain, Ytest = train_test_split(X, y, test_size=0.3, random_state=2)"
   ]
  },
  {
   "attachments": {},
   "cell_type": "markdown",
   "metadata": {},
   "source": [
    "## Machine Learning Algorithms"
   ]
  },
  {
   "attachments": {},
   "cell_type": "markdown",
   "metadata": {},
   "source": [
    "### XGBoost Classifier"
   ]
  },
  {
   "cell_type": "code",
   "execution_count": 15,
   "metadata": {},
   "outputs": [
    {
     "name": "stdout",
     "output_type": "stream",
     "text": [
      "[0.76297921 0.76130784 0.75900971 0.76590411 0.76567071]\n",
      "Accuracy of XGBOOST KFold with k=10: 76.30%\n",
      "[[27364  5211]\n",
      " [ 6134  9155]]\n"
     ]
    },
    {
     "data": {
      "image/png": "[encoded data removed]",
      "text/plain": [
       "<Figure size 432x288 with 2 Axes>"
      ]
     },
     "metadata": {
      "needs_background": "light"
     },
     "output_type": "display_data"
    }
   ],
   "source": [
    "# K - FOLD Cross Validation.\n",
    "\n",
    "kfold = KFold(n_splits=5, random_state=500, shuffle=True)\n",
    "\n",
    "xgb = XGBClassifier(learning_rate = 0.75, max_depth = 2)\n",
    "results_kfold = cross_val_score(xgb, Xtrain, Ytrain.values.ravel(), cv=5)\n",
    "print(results_kfold)\n",
    "print(\"Accuracy of XGBOOST KFold with k=10: %.2f%%\" % (results_kfold.mean()*100.0))\n",
    "\n",
    "\n",
    "pred = cross_val_predict(xgb, Xtrain, Ytrain.values.ravel(), cv=5)\n",
    "conf_mat = confusion_matrix(Ytrain, pred)\n",
    "print(conf_mat)\n",
    "disp = ConfusionMatrixDisplay.from_predictions(Ytrain,pred)"
   ]
  },
  {
   "cell_type": "code",
   "execution_count": 16,
   "metadata": {},
   "outputs": [],
   "source": [
    "xgb = XGBClassifier(learning_rate = 0.75, max_depth = 5)\n",
    "xgb.fit(Xtrain,Ytrain.values.ravel())\n",
    "y_pred = xgb.predict(Xtest)"
   ]
  },
  {
   "cell_type": "code",
   "execution_count": 17,
   "metadata": {},
   "outputs": [
    {
     "name": "stdout",
     "output_type": "stream",
     "text": [
      "AUC Score: 0.7328995368296408\n",
      "Accuracy  XGBOOST: 77.18631178707224 %\n",
      "Confusion Matrix:\n",
      "[[11731  2213]\n",
      " [ 2467  4103]]\n",
      "              precision    recall  f1-score   support\n",
      "\n",
      "         0.0       0.83      0.84      0.83     13944\n",
      "         1.0       0.65      0.62      0.64      6570\n",
      "\n",
      "    accuracy                           0.77     20514\n",
      "   macro avg       0.74      0.73      0.74     20514\n",
      "weighted avg       0.77      0.77      0.77     20514\n",
      "\n"
     ]
    },
    {
     "data": {
      "image/png": "[encoded data removed]",
      "text/plain": [
       "<Figure size 432x288 with 1 Axes>"
      ]
     },
     "metadata": {
      "needs_background": "light"
     },
     "output_type": "display_data"
    }
   ],
   "source": [
    "AUC_Score = roc_auc_score(Ytest,y_pred)\n",
    "print(\"AUC Score:\",AUC_Score)\n",
    "\n",
    "\n",
    "accuracy = xgb.score(Xtest, Ytest)\n",
    "print(\"Accuracy  XGBOOST:\",accuracy*100,\"%\")\n",
    "\n",
    "from sklearn.metrics import confusion_matrix\n",
    "ac = confusion_matrix(Ytest,y_pred)\n",
    "print(\"Confusion Matrix:\")\n",
    "print(ac)\n",
    "\n",
    "from sklearn.metrics import classification_report\n",
    "print(classification_report(Ytest,y_pred))\n",
    "\n",
    "from sklearn import metrics\n",
    "miss_rate, sensitivity, thresholds = metrics.roc_curve(Ytest, y_pred)\n",
    "plt.plot(miss_rate, sensitivity)\n",
    "plt.xlim([0.0, 1.0])\n",
    "plt.ylim([0.0, 1.0])\n",
    "plt.title('ROC curve for classifier')\n",
    "plt.xlabel('False Positive Rate (1 - Specificity)')\n",
    "plt.ylabel('True Positive Rate (Sensitivity)')\n",
    "plt.grid(True)\n",
    "\n"
   ]
  },
  {
   "attachments": {},
   "cell_type": "markdown",
   "metadata": {},
   "source": [
    "### Support Vector Machine"
   ]
  },
  {
   "cell_type": "code",
   "execution_count": 18,
   "metadata": {},
   "outputs": [
    {
     "name": "stdout",
     "output_type": "stream",
     "text": [
      "[0.70719733 0.69539329 0.70312337 0.70395905 0.70257   ]\n",
      "Accuracy (Support Vector Machine) KFold with k=5: 70.24%\n",
      "[[28166  4409]\n",
      " [ 9833  5456]]\n"
     ]
    },
    {
     "data": {
      "image/png": "[encoded data removed]",
      "text/plain": [
       "<Figure size 432x288 with 2 Axes>"
      ]
     },
     "metadata": {
      "needs_background": "light"
     },
     "output_type": "display_data"
    }
   ],
   "source": [
    "from sklearn.svm import SVC\n",
    "from sklearn.model_selection import KFold, cross_val_score\n",
    "kfold = KFold(n_splits=5, random_state=20, shuffle=True)\n",
    "svm = SVC(gamma='auto')\n",
    "\n",
    "results_kfold = cross_val_score(svm, Xtrain, Ytrain.values.ravel(), cv=5)\n",
    "print(results_kfold)\n",
    "print(\"Accuracy (Support Vector Machine) KFold with k=5: %.2f%%\" % (results_kfold.mean()*100.0))\n",
    "\n",
    "\n",
    "pred = cross_val_predict(svm, Xtrain, Ytrain.values.ravel(), cv=5)\n",
    "conf_mat = confusion_matrix(Ytrain, pred)\n",
    "print(conf_mat)\n",
    "disp = ConfusionMatrixDisplay.from_predictions(Ytrain,pred)"
   ]
  },
  {
   "cell_type": "code",
   "execution_count": 20,
   "metadata": {},
   "outputs": [],
   "source": [
    "svm = SVC(gamma='scale')\n",
    "svm.fit(Xtrain,Ytrain.values.ravel())\n",
    "y_pred = svm.predict(Xtest)"
   ]
  },
  {
   "cell_type": "code",
   "execution_count": 21,
   "metadata": {},
   "outputs": [
    {
     "name": "stdout",
     "output_type": "stream",
     "text": [
      "AUC Score: 0.6654486504399857\n",
      "Accuracy  SVM: 73.34015794091839 %\n",
      "Confusion Matrix:\n",
      "[[11915  2029]\n",
      " [ 3440  3130]]\n",
      "              precision    recall  f1-score   support\n",
      "\n",
      "         0.0       0.78      0.85      0.81     13944\n",
      "         1.0       0.61      0.48      0.53      6570\n",
      "\n",
      "    accuracy                           0.73     20514\n",
      "   macro avg       0.69      0.67      0.67     20514\n",
      "weighted avg       0.72      0.73      0.72     20514\n",
      "\n"
     ]
    },
    {
     "data": {
      "image/png": "[encoded data removed]",
      "text/plain": [
       "<Figure size 432x288 with 1 Axes>"
      ]
     },
     "metadata": {
      "needs_background": "light"
     },
     "output_type": "display_data"
    }
   ],
   "source": [
    "AUC_Score = roc_auc_score(Ytest,y_pred)\n",
    "print(\"AUC Score:\",AUC_Score)\n",
    "\n",
    "\n",
    "accuracy = svm.score(Xtest, Ytest)\n",
    "print(\"Accuracy  SVM:\",accuracy*100,\"%\")\n",
    "\n",
    "from sklearn.metrics import confusion_matrix\n",
    "ac = confusion_matrix(Ytest,y_pred)\n",
    "print(\"Confusion Matrix:\")\n",
    "print(ac)\n",
    "\n",
    "from sklearn.metrics import classification_report\n",
    "print(classification_report(Ytest,y_pred))\n",
    "\n",
    "from sklearn import metrics\n",
    "miss_rate, sensitivity, thresholds = metrics.roc_curve(Ytest, y_pred)\n",
    "plt.plot(miss_rate, sensitivity)\n",
    "plt.xlim([0.0, 1.0])\n",
    "plt.ylim([0.0, 1.0])\n",
    "plt.title('ROC curve for classifier')\n",
    "plt.xlabel('False Positive Rate (1 - Specificity)')\n",
    "plt.ylabel('True Positive Rate (Sensitivity)')\n",
    "plt.grid(True)\n",
    "\n"
   ]
  }
 ],
 "metadata": {
  "kernelspec": {
   "display_name": "Python 3.9.7 64-bit",
   "language": "python",
   "name": "python3"
  },
  "language_info": {
   "codemirror_mode": {
    "name": "ipython",
    "version": 3
   },
   "file_extension": ".py",
   "mimetype": "text/x-python",
   "name": "python",
   "nbconvert_exporter": "python",
   "pygments_lexer": "ipython3",
   "version": "3.9.7"
  },
  "orig_nbformat": 4,
  "vscode": {
   "interpreter": {
    "hash": "95f57ecaf1e4684a97728584cbdcdcfb0a14de4fde6afb1e55592db96a99a5c0"
   }
  }
 },
 "nbformat": 4,
 "nbformat_minor": 2
}
